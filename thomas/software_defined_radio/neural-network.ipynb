{
 "cells": [
  {
   "cell_type": "markdown",
   "metadata": {},
   "source": [
    "# Neural Network for CAN Classification from SDR measurements\n"
   ]
  },
  {
   "cell_type": "markdown",
   "metadata": {},
   "source": [
    "## Read in CSV files"
   ]
  },
  {
   "cell_type": "code",
   "execution_count": 1,
   "metadata": {},
   "outputs": [],
   "source": [
    "import os\n",
    "import pandas as pd\n",
    "import numpy as np\n",
    "from sklearn.preprocessing import LabelEncoder, MinMaxScaler\n",
    "from sklearn.model_selection import train_test_split"
   ]
  },
  {
   "cell_type": "code",
   "execution_count": 26,
   "metadata": {},
   "outputs": [],
   "source": [
    "folder = \"csv/full\"\n",
    "if not os.path.isdir(folder):\n",
    "    print(\"Error: Not a folder\")\n",
    "\n",
    "paths = os.listdir(folder)"
   ]
  },
  {
   "cell_type": "code",
   "execution_count": 27,
   "metadata": {},
   "outputs": [],
   "source": [
    "data = {}\n",
    "\n",
    "for path in paths:\n",
    "    path = folder + \"/\" + path\n",
    "\n",
    "    # Get the CAN Frame from the first row of the CSV file\n",
    "    can_frame_df = pd.read_csv(path, nrows=0, delimiter=';')\n",
    "    can_frame = can_frame_df.columns[1].strip()\n",
    "    sdr_measurment_df = pd.read_csv(path, skiprows=1, delimiter=';')\n",
    "\n",
    "    # Preprocess data\n",
    "    scaler = MinMaxScaler()\n",
    "    sdr_measurment_df['Amplitude'] = scaler.fit_transform(sdr_measurment_df[['Amplitude']])\n",
    "\n",
    "    # Save in dict\n",
    "    data[can_frame] = sdr_measurment_df['Amplitude'].to_numpy()\n"
   ]
  },
  {
   "cell_type": "markdown",
   "metadata": {},
   "source": [
    "## Build the Neural Network"
   ]
  },
  {
   "cell_type": "code",
   "execution_count": null,
   "metadata": {},
   "outputs": [],
   "source": []
  }
 ],
 "metadata": {
  "kernelspec": {
   "display_name": "env",
   "language": "python",
   "name": "python3"
  },
  "language_info": {
   "codemirror_mode": {
    "name": "ipython",
    "version": 3
   },
   "file_extension": ".py",
   "mimetype": "text/x-python",
   "name": "python",
   "nbconvert_exporter": "python",
   "pygments_lexer": "ipython3",
   "version": "3.11.2"
  }
 },
 "nbformat": 4,
 "nbformat_minor": 2
}
